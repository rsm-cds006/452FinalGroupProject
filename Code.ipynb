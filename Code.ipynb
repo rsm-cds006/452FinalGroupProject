{
 "cells": [
  {
   "cell_type": "code",
   "execution_count": 66,
   "metadata": {},
   "outputs": [
    {
     "name": "stdout",
     "output_type": "stream",
     "text": [
      "shape: (9_268, 11)\n",
      "┌───────────┬───────────┬───────────┬───────────┬───┬───────────┬───────────┬───────────┬──────────┐\n",
      "│ work_year ┆ experienc ┆ employmen ┆ job_title ┆ … ┆ employee_ ┆ remote_ra ┆ company_l ┆ company_ │\n",
      "│ ---       ┆ e_level   ┆ t_type    ┆ ---       ┆   ┆ residence ┆ tio       ┆ ocation   ┆ size     │\n",
      "│ str       ┆ ---       ┆ ---       ┆ str       ┆   ┆ ---       ┆ ---       ┆ ---       ┆ ---      │\n",
      "│           ┆ str       ┆ str       ┆           ┆   ┆ str       ┆ i64       ┆ str       ┆ str      │\n",
      "╞═══════════╪═══════════╪═══════════╪═══════════╪═══╪═══════════╪═══════════╪═══════════╪══════════╡\n",
      "│ 2023      ┆ SE        ┆ FT        ┆ Data      ┆ … ┆ US        ┆ 0         ┆ US        ┆ M        │\n",
      "│           ┆           ┆           ┆ Engineer  ┆   ┆           ┆           ┆           ┆          │\n",
      "│ 2023      ┆ SE        ┆ FT        ┆ Data      ┆ … ┆ US        ┆ 0         ┆ US        ┆ M        │\n",
      "│           ┆           ┆           ┆ Engineer  ┆   ┆           ┆           ┆           ┆          │\n",
      "│ 2023      ┆ EN        ┆ FT        ┆ MLOps     ┆ … ┆ US        ┆ 0         ┆ US        ┆ M        │\n",
      "│           ┆           ┆           ┆ Engineer  ┆   ┆           ┆           ┆           ┆          │\n",
      "│ 2023      ┆ EN        ┆ FT        ┆ MLOps     ┆ … ┆ US        ┆ 0         ┆ US        ┆ M        │\n",
      "│           ┆           ┆           ┆ Engineer  ┆   ┆           ┆           ┆           ┆          │\n",
      "│ …         ┆ …         ┆ …         ┆ …         ┆ … ┆ …         ┆ …         ┆ …         ┆ …        │\n",
      "│ 2021      ┆ MI        ┆ FT        ┆ Principal ┆ … ┆ US        ┆ 100       ┆ US        ┆ L        │\n",
      "│           ┆           ┆           ┆ Data      ┆   ┆           ┆           ┆           ┆          │\n",
      "│           ┆           ┆           ┆ Scientist ┆   ┆           ┆           ┆           ┆          │\n",
      "│ 2020      ┆ EN        ┆ FT        ┆ Data      ┆ … ┆ US        ┆ 100       ┆ US        ┆ S        │\n",
      "│           ┆           ┆           ┆ Scientist ┆   ┆           ┆           ┆           ┆          │\n",
      "│ 2020      ┆ EN        ┆ CT        ┆ Business  ┆ … ┆ US        ┆ 100       ┆ US        ┆ L        │\n",
      "│           ┆           ┆           ┆ Data      ┆   ┆           ┆           ┆           ┆          │\n",
      "│           ┆           ┆           ┆ Analyst   ┆   ┆           ┆           ┆           ┆          │\n",
      "│ 2021      ┆ SE        ┆ FT        ┆ Data      ┆ … ┆ IN        ┆ 50        ┆ IN        ┆ L        │\n",
      "│           ┆           ┆           ┆ Science   ┆   ┆           ┆           ┆           ┆          │\n",
      "│           ┆           ┆           ┆ Manager   ┆   ┆           ┆           ┆           ┆          │\n",
      "└───────────┴───────────┴───────────┴───────────┴───┴───────────┴───────────┴───────────┴──────────┘\n"
     ]
    }
   ],
   "source": [
    "#import salaries (1).json data in and read it\n",
    "import polars as pl\n",
    "import matplotlib as plt\n",
    "\n",
    "# Open the file for reading into a df\n",
    "# Define the file path?\n",
    "file_path = 'salaries (1).json'\n",
    "\n",
    "# Read the file into a dataframe\n",
    "df = pl.read_json(file_path)\n",
    "\n",
    "# Display the dataframe\n",
    "print(df)     \n"
   ]
  },
  {
   "cell_type": "code",
   "execution_count": 67,
   "metadata": {},
   "outputs": [
    {
     "name": "stdout",
     "output_type": "stream",
     "text": [
      "shape: (4, 2)\n",
      "┌─────────────────┬──────────────────────┐\n",
      "│ employment_type ┆ employmentType_total │\n",
      "│ ---             ┆ ---                  │\n",
      "│ str             ┆ u32                  │\n",
      "╞═════════════════╪══════════════════════╡\n",
      "│ PT              ┆ 15                   │\n",
      "│ CT              ┆ 19                   │\n",
      "│ FL              ┆ 12                   │\n",
      "│ FT              ┆ 9222                 │\n",
      "└─────────────────┴──────────────────────┘\n"
     ]
    },
    {
     "name": "stderr",
     "output_type": "stream",
     "text": [
      "/tmp/ipykernel_21595/2520150901.py:6: DeprecationWarning: `groupby` is deprecated. It has been renamed to `group_by`.\n",
      "  .groupby('employment_type')\n"
     ]
    }
   ],
   "source": [
    "#filter and count total for each employment_type for CT,FL,FT,PT?\n",
    "\n",
    "#filter and count total for contract employment_type\n",
    "employmentTypeCount = (\n",
    "    df\n",
    "    .groupby('employment_type')\n",
    "    .agg(\n",
    "        employmentType_total = pl.count()\n",
    "    )\n",
    "    )\n",
    "print(employmentTypeCount)\n",
    "\n"
   ]
  },
  {
   "cell_type": "code",
   "execution_count": 68,
   "metadata": {},
   "outputs": [
    {
     "name": "stdout",
     "output_type": "stream",
     "text": [
      "shape: (10, 2)\n",
      "┌────────────────────┬───────────────────────────┐\n",
      "│ employee_residence ┆ employmentResidence_total │\n",
      "│ ---                ┆ ---                       │\n",
      "│ str                ┆ u32                       │\n",
      "╞════════════════════╪═══════════════════════════╡\n",
      "│ US                 ┆ 7942                      │\n",
      "│ GB                 ┆ 436                       │\n",
      "│ CA                 ┆ 220                       │\n",
      "│ ES                 ┆ 117                       │\n",
      "│ …                  ┆ …                         │\n",
      "│ FR                 ┆ 54                        │\n",
      "│ PT                 ┆ 26                        │\n",
      "│ AU                 ┆ 21                        │\n",
      "│ NL                 ┆ 21                        │\n",
      "└────────────────────┴───────────────────────────┘\n"
     ]
    },
    {
     "name": "stderr",
     "output_type": "stream",
     "text": [
      "/tmp/ipykernel_21595/1496646664.py:4: DeprecationWarning: `groupby` is deprecated. It has been renamed to `group_by`.\n",
      "  .groupby('employee_residence')\n"
     ]
    }
   ],
   "source": [
    "#filter and count total for employee_residence\n",
    "employmentResidenceCount = (\n",
    "    df\n",
    "    .groupby('employee_residence')\n",
    "    .agg(\n",
    "        employmentResidence_total = pl.count()\n",
    "    )\n",
    "    .sort('employmentResidence_total')\n",
    "    .reverse()\n",
    "    .head(10)\n",
    "    )\n",
    "print(employmentResidenceCount)"
   ]
  },
  {
   "cell_type": "code",
   "execution_count": 69,
   "metadata": {},
   "outputs": [
    {
     "name": "stdout",
     "output_type": "stream",
     "text": [
      "shape: (7_929, 11)\n",
      "┌───────────┬───────────┬───────────┬───────────┬───┬───────────┬───────────┬───────────┬──────────┐\n",
      "│ work_year ┆ experienc ┆ employmen ┆ job_title ┆ … ┆ employee_ ┆ remote_ra ┆ company_l ┆ company_ │\n",
      "│ ---       ┆ e_level   ┆ t_type    ┆ ---       ┆   ┆ residence ┆ tio       ┆ ocation   ┆ size     │\n",
      "│ str       ┆ ---       ┆ ---       ┆ str       ┆   ┆ ---       ┆ ---       ┆ ---       ┆ ---      │\n",
      "│           ┆ str       ┆ str       ┆           ┆   ┆ str       ┆ i64       ┆ str       ┆ str      │\n",
      "╞═══════════╪═══════════╪═══════════╪═══════════╪═══╪═══════════╪═══════════╪═══════════╪══════════╡\n",
      "│ 2023      ┆ SE        ┆ FT        ┆ Data      ┆ … ┆ US        ┆ 0         ┆ US        ┆ M        │\n",
      "│           ┆           ┆           ┆ Engineer  ┆   ┆           ┆           ┆           ┆          │\n",
      "│ 2023      ┆ SE        ┆ FT        ┆ Data      ┆ … ┆ US        ┆ 0         ┆ US        ┆ M        │\n",
      "│           ┆           ┆           ┆ Engineer  ┆   ┆           ┆           ┆           ┆          │\n",
      "│ 2023      ┆ EN        ┆ FT        ┆ MLOps     ┆ … ┆ US        ┆ 0         ┆ US        ┆ M        │\n",
      "│           ┆           ┆           ┆ Engineer  ┆   ┆           ┆           ┆           ┆          │\n",
      "│ 2023      ┆ EN        ┆ FT        ┆ MLOps     ┆ … ┆ US        ┆ 0         ┆ US        ┆ M        │\n",
      "│           ┆           ┆           ┆ Engineer  ┆   ┆           ┆           ┆           ┆          │\n",
      "│ …         ┆ …         ┆ …         ┆ …         ┆ … ┆ …         ┆ …         ┆ …         ┆ …        │\n",
      "│ 2021      ┆ SE        ┆ FT        ┆ Data Spec ┆ … ┆ US        ┆ 100       ┆ US        ┆ L        │\n",
      "│           ┆           ┆           ┆ ialist    ┆   ┆           ┆           ┆           ┆          │\n",
      "│ 2020      ┆ SE        ┆ FT        ┆ Data      ┆ … ┆ US        ┆ 100       ┆ US        ┆ L        │\n",
      "│           ┆           ┆           ┆ Scientist ┆   ┆           ┆           ┆           ┆          │\n",
      "│ 2021      ┆ MI        ┆ FT        ┆ Principal ┆ … ┆ US        ┆ 100       ┆ US        ┆ L        │\n",
      "│           ┆           ┆           ┆ Data      ┆   ┆           ┆           ┆           ┆          │\n",
      "│           ┆           ┆           ┆ Scientist ┆   ┆           ┆           ┆           ┆          │\n",
      "│ 2020      ┆ EN        ┆ FT        ┆ Data      ┆ … ┆ US        ┆ 100       ┆ US        ┆ S        │\n",
      "│           ┆           ┆           ┆ Scientist ┆   ┆           ┆           ┆           ┆          │\n",
      "└───────────┴───────────┴───────────┴───────────┴───┴───────────┴───────────┴───────────┴──────────┘\n"
     ]
    }
   ],
   "source": [
    "fullTime = ['FT']\n",
    "theStates = ['US']\n",
    "\n",
    "#filter out employment type full time and employee residence US\n",
    "employmentDataFilter = (\n",
    "    df\n",
    "    .filter(pl.col('employment_type').is_in(fullTime))\n",
    "    .filter(pl.col('employee_residence').is_in(theStates))\n",
    ")\n",
    "print(employmentDataFilter)"
   ]
  },
  {
   "cell_type": "code",
   "execution_count": 73,
   "metadata": {},
   "outputs": [
    {
     "name": "stdout",
     "output_type": "stream",
     "text": [
      "shape: (101, 2)\n",
      "┌───────────────────────────────────┬────────────────────────┐\n",
      "│ job_title                         ┆ employeeJobTitle_total │\n",
      "│ ---                               ┆ ---                    │\n",
      "│ str                               ┆ u32                    │\n",
      "╞═══════════════════════════════════╪════════════════════════╡\n",
      "│ Machine Learning Infrastructure … ┆ 19                     │\n",
      "│ Data Management Specialist        ┆ 4                      │\n",
      "│ Data Operations Engineer          ┆ 16                     │\n",
      "│ Data Architect                    ┆ 195                    │\n",
      "│ …                                 ┆ …                      │\n",
      "│ Data Visualization Engineer       ┆ 4                      │\n",
      "│ Data Analytics Manager            ┆ 37                     │\n",
      "│ AI Engineer                       ┆ 25                     │\n",
      "│ Data Developer                    ┆ 6                      │\n",
      "└───────────────────────────────────┴────────────────────────┘\n"
     ]
    },
    {
     "name": "stderr",
     "output_type": "stream",
     "text": [
      "/tmp/ipykernel_21595/2802393274.py:8: DeprecationWarning: `groupby` is deprecated. It has been renamed to `group_by`.\n",
      "  .groupby('job_title')\n"
     ]
    }
   ],
   "source": [
    "#filter and count total for job_title\n",
    "fullTime = ['FT']\n",
    "theStates = ['US']\n",
    "employeeJobTitle = (\n",
    "    df\n",
    "    .filter(pl.col('employment_type').is_in(fullTime))\n",
    "    .filter(pl.col('employee_residence').is_in(theStates))\n",
    "    .groupby('job_title')\n",
    "    .agg(\n",
    "        employeeJobTitle_total = pl.count()\n",
    "    )\n",
    "    )\n",
    "print(employeeJobTitle)"
   ]
  },
  {
   "cell_type": "code",
   "execution_count": 74,
   "metadata": {},
   "outputs": [
    {
     "name": "stdout",
     "output_type": "stream",
     "text": [
      "shape: (10, 2)\n",
      "┌────────────────────────────────┬────────────────────────┐\n",
      "│ job_title                      ┆ employeeJobTitle_total │\n",
      "│ ---                            ┆ ---                    │\n",
      "│ str                            ┆ u32                    │\n",
      "╞════════════════════════════════╪════════════════════════╡\n",
      "│ Data Engineer                  ┆ 1895                   │\n",
      "│ Data Scientist                 ┆ 1683                   │\n",
      "│ Data Analyst                   ┆ 1198                   │\n",
      "│ Machine Learning Engineer      ┆ 840                    │\n",
      "│ …                              ┆ …                      │\n",
      "│ Analytics Engineer             ┆ 220                    │\n",
      "│ Data Architect                 ┆ 195                    │\n",
      "│ Business Intelligence Engineer ┆ 138                    │\n",
      "│ Research Engineer              ┆ 129                    │\n",
      "└────────────────────────────────┴────────────────────────┘\n"
     ]
    },
    {
     "name": "stderr",
     "output_type": "stream",
     "text": [
      "/tmp/ipykernel_21595/2193003027.py:8: DeprecationWarning: `groupby` is deprecated. It has been renamed to `group_by`.\n",
      "  .groupby('job_title')\n"
     ]
    }
   ],
   "source": [
    "#filter and count total for job_title show top 10 jobs\n",
    "fullTime = ['FT']\n",
    "theStates = ['US']\n",
    "employeeJobTitle = (\n",
    "    df\n",
    "    .filter(pl.col('employment_type').is_in(fullTime))\n",
    "    .filter(pl.col('employee_residence').is_in(theStates))\n",
    "    .groupby('job_title')\n",
    "    .agg(\n",
    "        employeeJobTitle_total=pl.count()\n",
    "    )\n",
    "    .sort('employeeJobTitle_total')  \n",
    "    .reverse()\n",
    "    .head(10)  # Selecting the top 10 rows\n",
    "    \n",
    ")\n",
    "\n",
    "print(employeeJobTitle)\n"
   ]
  },
  {
   "cell_type": "code",
   "execution_count": 83,
   "metadata": {},
   "outputs": [
    {
     "name": "stdout",
     "output_type": "stream",
     "text": [
      "shape: (3, 2)\n",
      "┌──────────────┬────────────────────────┐\n",
      "│ remote_ratio ┆ employmentRemote_total │\n",
      "│ ---          ┆ ---                    │\n",
      "│ i64          ┆ u32                    │\n",
      "╞══════════════╪════════════════════════╡\n",
      "│ 0            ┆ 3521                   │\n",
      "│ 50           ┆ 20                     │\n",
      "│ 100          ┆ 2075                   │\n",
      "└──────────────┴────────────────────────┘\n"
     ]
    },
    {
     "name": "stderr",
     "output_type": "stream",
     "text": [
      "/tmp/ipykernel_21595/2727686209.py:10: DeprecationWarning: `groupby` is deprecated. It has been renamed to `group_by`.\n",
      "  .groupby('remote_ratio')\n"
     ]
    }
   ],
   "source": [
    "#filter and count total for remote_ratio\n",
    "fullTime = ['FT']\n",
    "theStates = ['US']\n",
    "top4jobtitles = ['Machine Learning Engineer', 'Data Analyst', 'Data Engineer', 'Data Scientist']\n",
    "employmentRemote = (\n",
    "    df\n",
    "    .filter(pl.col('employment_type').is_in(fullTime))\n",
    "    .filter(pl.col('employee_residence').is_in(theStates))\n",
    "    .filter(pl.col('job_title').is_in(top4jobtitles))\n",
    "    .groupby('remote_ratio')\n",
    "    .agg(\n",
    "        employmentRemote_total = pl.count()\n",
    "    )\n",
    "    )\n",
    "print(employmentRemote)"
   ]
  },
  {
   "cell_type": "code",
   "execution_count": 85,
   "metadata": {},
   "outputs": [
    {
     "name": "stdout",
     "output_type": "stream",
     "text": [
      "shape: (4, 2)\n",
      "┌──────────────────┬───────────────────────────────┐\n",
      "│ experience_level ┆ employeeExperienceLevel_total │\n",
      "│ ---              ┆ ---                           │\n",
      "│ str              ┆ u32                           │\n",
      "╞══════════════════╪═══════════════════════════════╡\n",
      "│ MI               ┆ 902                           │\n",
      "│ EN               ┆ 224                           │\n",
      "│ EX               ┆ 144                           │\n",
      "│ SE               ┆ 4346                          │\n",
      "└──────────────────┴───────────────────────────────┘\n"
     ]
    },
    {
     "name": "stderr",
     "output_type": "stream",
     "text": [
      "/tmp/ipykernel_21595/2162794735.py:10: DeprecationWarning: `groupby` is deprecated. It has been renamed to `group_by`.\n",
      "  .groupby('experience_level')\n"
     ]
    }
   ],
   "source": [
    "#filter and count total for experience_level\n",
    "fullTime = ['FT']\n",
    "theStates = ['US']\n",
    "top4jobtitles = ['Machine Learning Engineer', 'Data Analyst', 'Data Engineer', 'Data Scientist']\n",
    "employeeExperienceLevel = (\n",
    "    df\n",
    "    .filter(pl.col('employment_type').is_in(fullTime))\n",
    "    .filter(pl.col('employee_residence').is_in(theStates))\n",
    "    .filter(pl.col('job_title').is_in(top4jobtitles))\n",
    "    .groupby('experience_level')\n",
    "    .agg(\n",
    "        employeeExperienceLevel_total = pl.count()\n",
    "    )\n",
    "    )\n",
    "print(employeeExperienceLevel)"
   ]
  },
  {
   "cell_type": "code",
   "execution_count": 87,
   "metadata": {},
   "outputs": [
    {
     "name": "stderr",
     "output_type": "stream",
     "text": [
      "/tmp/ipykernel_21595/2162794735.py:10: DeprecationWarning: `groupby` is deprecated. It has been renamed to `group_by`.\n",
      "  .groupby('experience_level')\n"
     ]
    },
    {
     "name": "stdout",
     "output_type": "stream",
     "text": [
      "shape: (4, 2)\n",
      "┌──────────────────┬───────────────────────────────┐\n",
      "│ experience_level ┆ employeeExperienceLevel_total │\n",
      "│ ---              ┆ ---                           │\n",
      "│ str              ┆ u32                           │\n",
      "╞══════════════════╪═══════════════════════════════╡\n",
      "│ SE               ┆ 4346                          │\n",
      "│ MI               ┆ 902                           │\n",
      "│ EX               ┆ 144                           │\n",
      "│ EN               ┆ 224                           │\n",
      "└──────────────────┴───────────────────────────────┘\n"
     ]
    }
   ],
   "source": [
    "#filter and count total for experience_level\n",
    "fullTime = ['FT']\n",
    "theStates = ['US']\n",
    "top4jobtitles = ['Machine Learning Engineer', 'Data Analyst', 'Data Engineer', 'Data Scientist']\n",
    "employeeExperienceLevel = (\n",
    "    df\n",
    "    .filter(pl.col('employment_type').is_in(fullTime))\n",
    "    .filter(pl.col('employee_residence').is_in(theStates))\n",
    "    .filter(pl.col('job_title').is_in(top4jobtitles))\n",
    "    .groupby('experience_level')\n",
    "    .agg(\n",
    "        employeeExperienceLevel_total = pl.count()\n",
    "    )\n",
    "    )\n",
    "print(employeeExperienceLevel)"
   ]
  },
  {
   "cell_type": "code",
   "execution_count": 88,
   "metadata": {},
   "outputs": [
    {
     "name": "stdout",
     "output_type": "stream",
     "text": [
      "shape: (3, 2)\n",
      "┌──────────────┬───────────────────────────┐\n",
      "│ company_size ┆ employerCompanySize_total │\n",
      "│ ---          ┆ ---                       │\n",
      "│ str          ┆ u32                       │\n",
      "╞══════════════╪═══════════════════════════╡\n",
      "│ L            ┆ 203                       │\n",
      "│ M            ┆ 5385                      │\n",
      "│ S            ┆ 28                        │\n",
      "└──────────────┴───────────────────────────┘\n"
     ]
    },
    {
     "name": "stderr",
     "output_type": "stream",
     "text": [
      "/tmp/ipykernel_21595/1734881984.py:10: DeprecationWarning: `groupby` is deprecated. It has been renamed to `group_by`.\n",
      "  .groupby('company_size')\n"
     ]
    }
   ],
   "source": [
    "#filter and count total for company_size\n",
    "fullTime = ['FT']\n",
    "theStates = ['US']\n",
    "top4jobtitles = ['Machine Learning Engineer', 'Data Analyst', 'Data Engineer', 'Data Scientist']\n",
    "employerCompanySize = (\n",
    "    df\n",
    "    .filter(pl.col('employment_type').is_in(fullTime))\n",
    "    .filter(pl.col('employee_residence').is_in(theStates))\n",
    "    .filter(pl.col('job_title').is_in(top4jobtitles))\n",
    "    .groupby('company_size')\n",
    "    .agg(\n",
    "        employerCompanySize_total = pl.count()\n",
    "    )\n",
    "    )\n",
    "print(employerCompanySize)"
   ]
  },
  {
   "cell_type": "code",
   "execution_count": 89,
   "metadata": {},
   "outputs": [
    {
     "name": "stdout",
     "output_type": "stream",
     "text": [
      "shape: (1_091, 2)\n",
      "┌───────────────┬──────────────────────┐\n",
      "│ salary_in_usd ┆ employeeSalary_total │\n",
      "│ ---           ┆ ---                  │\n",
      "│ str           ┆ u32                  │\n",
      "╞═══════════════╪══════════════════════╡\n",
      "│ 196760        ┆ 1                    │\n",
      "│ 139700        ┆ 9                    │\n",
      "│ 100500        ┆ 2                    │\n",
      "│ 59000         ┆ 2                    │\n",
      "│ …             ┆ …                    │\n",
      "│ 115950        ┆ 1                    │\n",
      "│ 205400        ┆ 1                    │\n",
      "│ 58161         ┆ 1                    │\n",
      "│ 134236        ┆ 2                    │\n",
      "└───────────────┴──────────────────────┘\n"
     ]
    },
    {
     "name": "stderr",
     "output_type": "stream",
     "text": [
      "/tmp/ipykernel_21595/3801413792.py:10: DeprecationWarning: `groupby` is deprecated. It has been renamed to `group_by`.\n",
      "  .groupby('salary_in_usd')\n"
     ]
    }
   ],
   "source": [
    "#filter and count total for salary_in_usd\n",
    "fullTime = ['FT']\n",
    "theStates = ['US']\n",
    "top4jobtitles = ['Machine Learning Engineer', 'Data Analyst', 'Data Engineer', 'Data Scientist']\n",
    "employeeSalary = (\n",
    "    df\n",
    "    .filter(pl.col('employment_type').is_in(fullTime))\n",
    "    .filter(pl.col('employee_residence').is_in(theStates))\n",
    "    .filter(pl.col('job_title').is_in(top4jobtitles))\n",
    "    .groupby('salary_in_usd')\n",
    "    .agg(\n",
    "        employeeSalary_total = pl.count()\n",
    "    )\n",
    "    )\n",
    "print(employeeSalary)"
   ]
  },
  {
   "cell_type": "code",
   "execution_count": 92,
   "metadata": {},
   "outputs": [
    {
     "name": "stdout",
     "output_type": "stream",
     "text": [
      "shape: (10, 2)\n",
      "┌───────────────┬──────────────────────┐\n",
      "│ salary_in_usd ┆ employeeSalary_total │\n",
      "│ ---           ┆ ---                  │\n",
      "│ str           ┆ u32                  │\n",
      "╞═══════════════╪══════════════════════╡\n",
      "│ 160000        ┆ 142                  │\n",
      "│ 150000        ┆ 139                  │\n",
      "│ 130000        ┆ 134                  │\n",
      "│ 100000        ┆ 110                  │\n",
      "│ …             ┆ …                    │\n",
      "│ 145000        ┆ 85                   │\n",
      "│ 200000        ┆ 80                   │\n",
      "│ 135000        ┆ 78                   │\n",
      "│ 180000        ┆ 78                   │\n",
      "└───────────────┴──────────────────────┘\n"
     ]
    },
    {
     "name": "stderr",
     "output_type": "stream",
     "text": [
      "/tmp/ipykernel_21595/268392807.py:10: DeprecationWarning: `groupby` is deprecated. It has been renamed to `group_by`.\n",
      "  .groupby('salary_in_usd')\n"
     ]
    }
   ],
   "source": [
    "#filter and count total for salary_in_usd\n",
    "fullTime = ['FT']\n",
    "theStates = ['US']\n",
    "top4jobtitles = ['Machine Learning Engineer', 'Data Analyst', 'Data Engineer', 'Data Scientist']\n",
    "employeeSalary = (\n",
    "    df\n",
    "    .filter(pl.col('employment_type').is_in(fullTime))\n",
    "    .filter(pl.col('employee_residence').is_in(theStates))\n",
    "    .filter(pl.col('job_title').is_in(top4jobtitles))\n",
    "    .groupby('salary_in_usd')\n",
    "    .agg(\n",
    "        employeeSalary_total = pl.count()\n",
    "    )\n",
    "    .sort('employeeSalary_total')\n",
    "    .reverse()\n",
    "    .head(10)\n",
    "    )\n",
    "print(employeeSalary)\n"
   ]
  },
  {
   "cell_type": "code",
   "execution_count": 93,
   "metadata": {},
   "outputs": [
    {
     "name": "stdout",
     "output_type": "stream",
     "text": [
      "shape: (1_383, 3)\n",
      "┌───────────────┬──────────────────┬────────────────────────────────┐\n",
      "│ salary_in_usd ┆ experience_level ┆ employeeSalaryWExperienceLevel │\n",
      "│ ---           ┆ ---              ┆ ---                            │\n",
      "│ str           ┆ str              ┆ u32                            │\n",
      "╞═══════════════╪══════════════════╪════════════════════════════════╡\n",
      "│ 230300        ┆ SE               ┆ 1                              │\n",
      "│ 100000        ┆ MI               ┆ 45                             │\n",
      "│ 135000        ┆ MI               ┆ 17                             │\n",
      "│ 165000        ┆ SE               ┆ 38                             │\n",
      "│ …             ┆ …                ┆ …                              │\n",
      "│ 181940        ┆ SE               ┆ 1                              │\n",
      "│ 120600        ┆ SE               ┆ 1                              │\n",
      "│ 200100        ┆ SE               ┆ 1                              │\n",
      "│ 324000        ┆ EX               ┆ 1                              │\n",
      "└───────────────┴──────────────────┴────────────────────────────────┘\n"
     ]
    },
    {
     "name": "stderr",
     "output_type": "stream",
     "text": [
      "/tmp/ipykernel_21595/1391258399.py:10: DeprecationWarning: `groupby` is deprecated. It has been renamed to `group_by`.\n",
      "  .groupby('salary_in_usd', 'experience_level')\n"
     ]
    }
   ],
   "source": [
    "#filter and count total for salary_in_usd with experience_level showing \n",
    "fullTime = ['FT']\n",
    "theStates = ['US']\n",
    "top4jobtitles = ['Machine Learning Engineer', 'Data Analyst', 'Data Engineer', 'Data Scientist']\n",
    "employeeSalaryWExperienceLevel = (\n",
    "    df\n",
    "    .filter(pl.col('employment_type').is_in(fullTime))\n",
    "    .filter(pl.col('employee_residence').is_in(theStates))\n",
    "    .filter(pl.col('job_title').is_in(top4jobtitles))\n",
    "    .groupby('salary_in_usd', 'experience_level')\n",
    "    .agg(\n",
    "        employeeSalaryWExperienceLevel = pl.count()\n",
    "    )\n",
    "    )\n",
    "print(employeeSalaryWExperienceLevel)"
   ]
  },
  {
   "cell_type": "code",
   "execution_count": 94,
   "metadata": {},
   "outputs": [
    {
     "name": "stdout",
     "output_type": "stream",
     "text": [
      "shape: (10, 3)\n",
      "┌───────────────┬──────────────────┬────────────────────────────────┐\n",
      "│ salary_in_usd ┆ experience_level ┆ employeeSalaryWExperienceLevel │\n",
      "│ ---           ┆ ---              ┆ ---                            │\n",
      "│ str           ┆ str              ┆ u32                            │\n",
      "╞═══════════════╪══════════════════╪════════════════════════════════╡\n",
      "│ 160000        ┆ SE               ┆ 106                            │\n",
      "│ 130000        ┆ SE               ┆ 97                             │\n",
      "│ 150000        ┆ SE               ┆ 94                             │\n",
      "│ 140000        ┆ SE               ┆ 87                             │\n",
      "│ …             ┆ …                ┆ …                              │\n",
      "│ 200000        ┆ SE               ┆ 60                             │\n",
      "│ 170000        ┆ SE               ┆ 60                             │\n",
      "│ 175000        ┆ SE               ┆ 59                             │\n",
      "│ 180000        ┆ SE               ┆ 59                             │\n",
      "└───────────────┴──────────────────┴────────────────────────────────┘\n"
     ]
    },
    {
     "name": "stderr",
     "output_type": "stream",
     "text": [
      "/tmp/ipykernel_21595/3969515959.py:10: DeprecationWarning: `groupby` is deprecated. It has been renamed to `group_by`.\n",
      "  .groupby('salary_in_usd', 'experience_level')\n"
     ]
    }
   ],
   "source": [
    "#filter and count total for salary_in_usd with experience_level showing \n",
    "fullTime = ['FT']\n",
    "theStates = ['US']\n",
    "top4jobtitles = ['Machine Learning Engineer', 'Data Analyst', 'Data Engineer', 'Data Scientist']\n",
    "employeeSalaryWExperienceLevel = (\n",
    "    df\n",
    "    .filter(pl.col('employment_type').is_in(fullTime))\n",
    "    .filter(pl.col('employee_residence').is_in(theStates))\n",
    "    .filter(pl.col('job_title').is_in(top4jobtitles))\n",
    "    .groupby('salary_in_usd', 'experience_level')\n",
    "    .agg(\n",
    "        employeeSalaryWExperienceLevel = pl.count()\n",
    "    )\n",
    "    .sort('employeeSalaryWExperienceLevel')\n",
    "    .reverse()\n",
    "    .head(10)\n",
    "    )\n",
    "print(employeeSalaryWExperienceLevel)"
   ]
  }
 ],
 "metadata": {
  "kernelspec": {
   "display_name": "base",
   "language": "python",
   "name": "python3"
  },
  "language_info": {
   "codemirror_mode": {
    "name": "ipython",
    "version": 3
   },
   "file_extension": ".py",
   "mimetype": "text/x-python",
   "name": "python",
   "nbconvert_exporter": "python",
   "pygments_lexer": "ipython3",
   "version": "3.11.5"
  }
 },
 "nbformat": 4,
 "nbformat_minor": 2
}
