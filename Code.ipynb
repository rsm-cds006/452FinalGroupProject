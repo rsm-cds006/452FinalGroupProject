{
 "cells": [
  {
   "cell_type": "code",
   "execution_count": 66,
   "metadata": {},
   "outputs": [
    {
     "name": "stdout",
     "output_type": "stream",
     "text": [
      "shape: (9_268, 11)\n",
      "┌───────────┬───────────┬───────────┬───────────┬───┬───────────┬───────────┬───────────┬──────────┐\n",
      "│ work_year ┆ experienc ┆ employmen ┆ job_title ┆ … ┆ employee_ ┆ remote_ra ┆ company_l ┆ company_ │\n",
      "│ ---       ┆ e_level   ┆ t_type    ┆ ---       ┆   ┆ residence ┆ tio       ┆ ocation   ┆ size     │\n",
      "│ str       ┆ ---       ┆ ---       ┆ str       ┆   ┆ ---       ┆ ---       ┆ ---       ┆ ---      │\n",
      "│           ┆ str       ┆ str       ┆           ┆   ┆ str       ┆ i64       ┆ str       ┆ str      │\n",
      "╞═══════════╪═══════════╪═══════════╪═══════════╪═══╪═══════════╪═══════════╪═══════════╪══════════╡\n",
      "│ 2023      ┆ SE        ┆ FT        ┆ Data      ┆ … ┆ US        ┆ 0         ┆ US        ┆ M        │\n",
      "│           ┆           ┆           ┆ Engineer  ┆   ┆           ┆           ┆           ┆          │\n",
      "│ 2023      ┆ SE        ┆ FT        ┆ Data      ┆ … ┆ US        ┆ 0         ┆ US        ┆ M        │\n",
      "│           ┆           ┆           ┆ Engineer  ┆   ┆           ┆           ┆           ┆          │\n",
      "│ 2023      ┆ EN        ┆ FT        ┆ MLOps     ┆ … ┆ US        ┆ 0         ┆ US        ┆ M        │\n",
      "│           ┆           ┆           ┆ Engineer  ┆   ┆           ┆           ┆           ┆          │\n",
      "│ 2023      ┆ EN        ┆ FT        ┆ MLOps     ┆ … ┆ US        ┆ 0         ┆ US        ┆ M        │\n",
      "│           ┆           ┆           ┆ Engineer  ┆   ┆           ┆           ┆           ┆          │\n",
      "│ …         ┆ …         ┆ …         ┆ …         ┆ … ┆ …         ┆ …         ┆ …         ┆ …        │\n",
      "│ 2021      ┆ MI        ┆ FT        ┆ Principal ┆ … ┆ US        ┆ 100       ┆ US        ┆ L        │\n",
      "│           ┆           ┆           ┆ Data      ┆   ┆           ┆           ┆           ┆          │\n",
      "│           ┆           ┆           ┆ Scientist ┆   ┆           ┆           ┆           ┆          │\n",
      "│ 2020      ┆ EN        ┆ FT        ┆ Data      ┆ … ┆ US        ┆ 100       ┆ US        ┆ S        │\n",
      "│           ┆           ┆           ┆ Scientist ┆   ┆           ┆           ┆           ┆          │\n",
      "│ 2020      ┆ EN        ┆ CT        ┆ Business  ┆ … ┆ US        ┆ 100       ┆ US        ┆ L        │\n",
      "│           ┆           ┆           ┆ Data      ┆   ┆           ┆           ┆           ┆          │\n",
      "│           ┆           ┆           ┆ Analyst   ┆   ┆           ┆           ┆           ┆          │\n",
      "│ 2021      ┆ SE        ┆ FT        ┆ Data      ┆ … ┆ IN        ┆ 50        ┆ IN        ┆ L        │\n",
      "│           ┆           ┆           ┆ Science   ┆   ┆           ┆           ┆           ┆          │\n",
      "│           ┆           ┆           ┆ Manager   ┆   ┆           ┆           ┆           ┆          │\n",
      "└───────────┴───────────┴───────────┴───────────┴───┴───────────┴───────────┴───────────┴──────────┘\n"
     ]
    }
   ],
   "source": [
    "#import salaries (1).json data in and read it\n",
    "import polars as pl\n",
    "\n",
    "# Open the file for reading into a df\n",
    "# Define the file path?\n",
    "file_path = 'salaries (1).json'\n",
    "\n",
    "# Read the file into a dataframe\n",
    "df = pl.read_json(file_path)\n",
    "\n",
    "# Display the dataframe\n",
    "print(df)     \n"
   ]
  },
  {
   "cell_type": "code",
   "execution_count": 67,
   "metadata": {},
   "outputs": [
    {
     "name": "stdout",
     "output_type": "stream",
     "text": [
      "shape: (4, 2)\n",
      "┌─────────────────┬──────────────────────┐\n",
      "│ employment_type ┆ employmentType_total │\n",
      "│ ---             ┆ ---                  │\n",
      "│ str             ┆ u32                  │\n",
      "╞═════════════════╪══════════════════════╡\n",
      "│ PT              ┆ 15                   │\n",
      "│ CT              ┆ 19                   │\n",
      "│ FL              ┆ 12                   │\n",
      "│ FT              ┆ 9222                 │\n",
      "└─────────────────┴──────────────────────┘\n"
     ]
    },
    {
     "name": "stderr",
     "output_type": "stream",
     "text": [
      "/tmp/ipykernel_21595/2520150901.py:6: DeprecationWarning: `groupby` is deprecated. It has been renamed to `group_by`.\n",
      "  .groupby('employment_type')\n"
     ]
    }
   ],
   "source": [
    "#filter and count total for each employment_type for CT,FL,FT,PT?\n",
    "\n",
    "#filter and count total for contract employment_type\n",
    "employmentTypeCount = (\n",
    "    df\n",
    "    .groupby('employment_type')\n",
    "    .agg(\n",
    "        employmentType_total = pl.count()\n",
    "    )\n",
    "    )\n",
    "print(employmentTypeCount)\n",
    "\n"
   ]
  },
  {
   "cell_type": "code",
   "execution_count": 68,
   "metadata": {},
   "outputs": [
    {
     "name": "stdout",
     "output_type": "stream",
     "text": [
      "shape: (10, 2)\n",
      "┌────────────────────┬───────────────────────────┐\n",
      "│ employee_residence ┆ employmentResidence_total │\n",
      "│ ---                ┆ ---                       │\n",
      "│ str                ┆ u32                       │\n",
      "╞════════════════════╪═══════════════════════════╡\n",
      "│ US                 ┆ 7942                      │\n",
      "│ GB                 ┆ 436                       │\n",
      "│ CA                 ┆ 220                       │\n",
      "│ ES                 ┆ 117                       │\n",
      "│ …                  ┆ …                         │\n",
      "│ FR                 ┆ 54                        │\n",
      "│ PT                 ┆ 26                        │\n",
      "│ AU                 ┆ 21                        │\n",
      "│ NL                 ┆ 21                        │\n",
      "└────────────────────┴───────────────────────────┘\n"
     ]
    },
    {
     "name": "stderr",
     "output_type": "stream",
     "text": [
      "/tmp/ipykernel_21595/1496646664.py:4: DeprecationWarning: `groupby` is deprecated. It has been renamed to `group_by`.\n",
      "  .groupby('employee_residence')\n"
     ]
    }
   ],
   "source": [
    "#filter and count total for employee_residence\n",
    "employmentResidenceCount = (\n",
    "    df\n",
    "    .groupby('employee_residence')\n",
    "    .agg(\n",
    "        employmentResidence_total = pl.count()\n",
    "    )\n",
    "    .sort('employmentResidence_total')\n",
    "    .reverse()\n",
    "    .head(10)\n",
    "    )\n",
    "print(employmentResidenceCount)"
   ]
  },
  {
   "cell_type": "code",
   "execution_count": 69,
   "metadata": {},
   "outputs": [
    {
     "name": "stdout",
     "output_type": "stream",
     "text": [
      "shape: (7_929, 11)\n",
      "┌───────────┬───────────┬───────────┬───────────┬───┬───────────┬───────────┬───────────┬──────────┐\n",
      "│ work_year ┆ experienc ┆ employmen ┆ job_title ┆ … ┆ employee_ ┆ remote_ra ┆ company_l ┆ company_ │\n",
      "│ ---       ┆ e_level   ┆ t_type    ┆ ---       ┆   ┆ residence ┆ tio       ┆ ocation   ┆ size     │\n",
      "│ str       ┆ ---       ┆ ---       ┆ str       ┆   ┆ ---       ┆ ---       ┆ ---       ┆ ---      │\n",
      "│           ┆ str       ┆ str       ┆           ┆   ┆ str       ┆ i64       ┆ str       ┆ str      │\n",
      "╞═══════════╪═══════════╪═══════════╪═══════════╪═══╪═══════════╪═══════════╪═══════════╪══════════╡\n",
      "│ 2023      ┆ SE        ┆ FT        ┆ Data      ┆ … ┆ US        ┆ 0         ┆ US        ┆ M        │\n",
      "│           ┆           ┆           ┆ Engineer  ┆   ┆           ┆           ┆           ┆          │\n",
      "│ 2023      ┆ SE        ┆ FT        ┆ Data      ┆ … ┆ US        ┆ 0         ┆ US        ┆ M        │\n",
      "│           ┆           ┆           ┆ Engineer  ┆   ┆           ┆           ┆           ┆          │\n",
      "│ 2023      ┆ EN        ┆ FT        ┆ MLOps     ┆ … ┆ US        ┆ 0         ┆ US        ┆ M        │\n",
      "│           ┆           ┆           ┆ Engineer  ┆   ┆           ┆           ┆           ┆          │\n",
      "│ 2023      ┆ EN        ┆ FT        ┆ MLOps     ┆ … ┆ US        ┆ 0         ┆ US        ┆ M        │\n",
      "│           ┆           ┆           ┆ Engineer  ┆   ┆           ┆           ┆           ┆          │\n",
      "│ …         ┆ …         ┆ …         ┆ …         ┆ … ┆ …         ┆ …         ┆ …         ┆ …        │\n",
      "│ 2021      ┆ SE        ┆ FT        ┆ Data Spec ┆ … ┆ US        ┆ 100       ┆ US        ┆ L        │\n",
      "│           ┆           ┆           ┆ ialist    ┆   ┆           ┆           ┆           ┆          │\n",
      "│ 2020      ┆ SE        ┆ FT        ┆ Data      ┆ … ┆ US        ┆ 100       ┆ US        ┆ L        │\n",
      "│           ┆           ┆           ┆ Scientist ┆   ┆           ┆           ┆           ┆          │\n",
      "│ 2021      ┆ MI        ┆ FT        ┆ Principal ┆ … ┆ US        ┆ 100       ┆ US        ┆ L        │\n",
      "│           ┆           ┆           ┆ Data      ┆   ┆           ┆           ┆           ┆          │\n",
      "│           ┆           ┆           ┆ Scientist ┆   ┆           ┆           ┆           ┆          │\n",
      "│ 2020      ┆ EN        ┆ FT        ┆ Data      ┆ … ┆ US        ┆ 100       ┆ US        ┆ S        │\n",
      "│           ┆           ┆           ┆ Scientist ┆   ┆           ┆           ┆           ┆          │\n",
      "└───────────┴───────────┴───────────┴───────────┴───┴───────────┴───────────┴───────────┴──────────┘\n"
     ]
    }
   ],
   "source": [
    "fullTime = ['FT']\n",
    "theStates = ['US']\n",
    "\n",
    "#filter out employment type full time and employee residence US\n",
    "employmentDataFilter = (\n",
    "    df\n",
    "    .filter(pl.col('employment_type').is_in(fullTime))\n",
    "    .filter(pl.col('employee_residence').is_in(theStates))\n",
    ")\n",
    "print(employmentDataFilter)"
   ]
  },
  {
   "cell_type": "code",
   "execution_count": 73,
   "metadata": {},
   "outputs": [
    {
     "name": "stdout",
     "output_type": "stream",
     "text": [
      "shape: (101, 2)\n",
      "┌───────────────────────────────────┬────────────────────────┐\n",
      "│ job_title                         ┆ employeeJobTitle_total │\n",
      "│ ---                               ┆ ---                    │\n",
      "│ str                               ┆ u32                    │\n",
      "╞═══════════════════════════════════╪════════════════════════╡\n",
      "│ Machine Learning Infrastructure … ┆ 19                     │\n",
      "│ Data Management Specialist        ┆ 4                      │\n",
      "│ Data Operations Engineer          ┆ 16                     │\n",
      "│ Data Architect                    ┆ 195                    │\n",
      "│ …                                 ┆ …                      │\n",
      "│ Data Visualization Engineer       ┆ 4                      │\n",
      "│ Data Analytics Manager            ┆ 37                     │\n",
      "│ AI Engineer                       ┆ 25                     │\n",
      "│ Data Developer                    ┆ 6                      │\n",
      "└───────────────────────────────────┴────────────────────────┘\n"
     ]
    },
    {
     "name": "stderr",
     "output_type": "stream",
     "text": [
      "/tmp/ipykernel_21595/2802393274.py:8: DeprecationWarning: `groupby` is deprecated. It has been renamed to `group_by`.\n",
      "  .groupby('job_title')\n"
     ]
    }
   ],
   "source": [
    "#filter and count total for job_title\n",
    "fullTime = ['FT']\n",
    "theStates = ['US']\n",
    "employeeJobTitle = (\n",
    "    df\n",
    "    .filter(pl.col('employment_type').is_in(fullTime))\n",
    "    .filter(pl.col('employee_residence').is_in(theStates))\n",
    "    .groupby('job_title')\n",
    "    .agg(\n",
    "        employeeJobTitle_total = pl.count()\n",
    "    )\n",
    "    )\n",
    "print(employeeJobTitle)"
   ]
  },
  {
   "cell_type": "code",
   "execution_count": 74,
   "metadata": {},
   "outputs": [
    {
     "name": "stdout",
     "output_type": "stream",
     "text": [
      "shape: (10, 2)\n",
      "┌────────────────────────────────┬────────────────────────┐\n",
      "│ job_title                      ┆ employeeJobTitle_total │\n",
      "│ ---                            ┆ ---                    │\n",
      "│ str                            ┆ u32                    │\n",
      "╞════════════════════════════════╪════════════════════════╡\n",
      "│ Data Engineer                  ┆ 1895                   │\n",
      "│ Data Scientist                 ┆ 1683                   │\n",
      "│ Data Analyst                   ┆ 1198                   │\n",
      "│ Machine Learning Engineer      ┆ 840                    │\n",
      "│ …                              ┆ …                      │\n",
      "│ Analytics Engineer             ┆ 220                    │\n",
      "│ Data Architect                 ┆ 195                    │\n",
      "│ Business Intelligence Engineer ┆ 138                    │\n",
      "│ Research Engineer              ┆ 129                    │\n",
      "└────────────────────────────────┴────────────────────────┘\n"
     ]
    },
    {
     "name": "stderr",
     "output_type": "stream",
     "text": [
      "/tmp/ipykernel_21595/2193003027.py:8: DeprecationWarning: `groupby` is deprecated. It has been renamed to `group_by`.\n",
      "  .groupby('job_title')\n"
     ]
    }
   ],
   "source": [
    "#filter and count total for job_title show top 10 jobs\n",
    "fullTime = ['FT']\n",
    "theStates = ['US']\n",
    "employeeJobTitle = (\n",
    "    df\n",
    "    .filter(pl.col('employment_type').is_in(fullTime))\n",
    "    .filter(pl.col('employee_residence').is_in(theStates))\n",
    "    .groupby('job_title')\n",
    "    .agg(\n",
    "        employeeJobTitle_total=pl.count()\n",
    "    )\n",
    "    .sort('employeeJobTitle_total')  \n",
    "    .reverse()\n",
    "    .head(10)  # Selecting the top 10 rows\n",
    ")\n",
    "\n",
    "print(employeeJobTitle)\n"
   ]
  },
  {
   "cell_type": "code",
   "execution_count": 75,
   "metadata": {},
   "outputs": [
    {
     "name": "stdout",
     "output_type": "stream",
     "text": [
      "shape: (3, 2)\n",
      "┌──────────────┬────────────────────────┐\n",
      "│ remote_ratio ┆ employmentRemote_total │\n",
      "│ ---          ┆ ---                    │\n",
      "│ i64          ┆ u32                    │\n",
      "╞══════════════╪════════════════════════╡\n",
      "│ 0            ┆ 5054                   │\n",
      "│ 50           ┆ 39                     │\n",
      "│ 100          ┆ 2836                   │\n",
      "└──────────────┴────────────────────────┘\n"
     ]
    },
    {
     "name": "stderr",
     "output_type": "stream",
     "text": [
      "/tmp/ipykernel_21595/3851781859.py:8: DeprecationWarning: `groupby` is deprecated. It has been renamed to `group_by`.\n",
      "  .groupby('remote_ratio')\n"
     ]
    }
   ],
   "source": [
    "#filter and count total for remote_ratio\n",
    "fullTime = ['FT']\n",
    "theStates = ['US']\n",
    "employmentRemote = (\n",
    "    df\n",
    "    .filter(pl.col('employment_type').is_in(fullTime))\n",
    "    .filter(pl.col('employee_residence').is_in(theStates))\n",
    "    .groupby('remote_ratio')\n",
    "    .agg(\n",
    "        employmentRemote_total = pl.count()\n",
    "    )\n",
    "    )\n",
    "print(employmentRemote)"
   ]
  },
  {
   "cell_type": "code",
   "execution_count": 76,
   "metadata": {},
   "outputs": [
    {
     "name": "stdout",
     "output_type": "stream",
     "text": [
      "shape: (4, 2)\n",
      "┌──────────────────┬───────────────────────────────┐\n",
      "│ experience_level ┆ employeeExperienceLevel_total │\n",
      "│ ---              ┆ ---                           │\n",
      "│ str              ┆ u32                           │\n",
      "╞══════════════════╪═══════════════════════════════╡\n",
      "│ MI               ┆ 1320                          │\n",
      "│ EN               ┆ 317                           │\n",
      "│ SE               ┆ 6051                          │\n",
      "│ EX               ┆ 241                           │\n",
      "└──────────────────┴───────────────────────────────┘\n"
     ]
    },
    {
     "name": "stderr",
     "output_type": "stream",
     "text": [
      "/tmp/ipykernel_21595/2020722578.py:8: DeprecationWarning: `groupby` is deprecated. It has been renamed to `group_by`.\n",
      "  .groupby('experience_level')\n"
     ]
    }
   ],
   "source": [
    "#filter and count total for experience_level\n",
    "fullTime = ['FT']\n",
    "theStates = ['US']\n",
    "employeeExperienceLevel = (\n",
    "    df\n",
    "    .filter(pl.col('employment_type').is_in(fullTime))\n",
    "    .filter(pl.col('employee_residence').is_in(theStates))\n",
    "    .groupby('experience_level')\n",
    "    .agg(\n",
    "        employeeExperienceLevel_total = pl.count()\n",
    "    )\n",
    "    )\n",
    "print(employeeExperienceLevel)"
   ]
  },
  {
   "cell_type": "code",
   "execution_count": null,
   "metadata": {},
   "outputs": [],
   "source": [
    "#filter and count total for experience_level\n",
    "fullTime = ['FT']\n",
    "theStates = ['US']\n",
    "employeeExperienceLevel = (\n",
    "    df\n",
    "    .filter(pl.col('employment_type').is_in(fullTime))\n",
    "    .filter(pl.col('employee_residence').is_in(theStates))\n",
    "    .groupby('experience_level')\n",
    "    .agg(\n",
    "        employeeExperienceLevel_total = pl.count()\n",
    "    )\n",
    "    )\n",
    "print(employeeExperienceLevel)"
   ]
  },
  {
   "cell_type": "code",
   "execution_count": 77,
   "metadata": {},
   "outputs": [
    {
     "name": "stdout",
     "output_type": "stream",
     "text": [
      "shape: (3, 2)\n",
      "┌──────────────┬───────────────────────────┐\n",
      "│ company_size ┆ employerCompanySize_total │\n",
      "│ ---          ┆ ---                       │\n",
      "│ str          ┆ u32                       │\n",
      "╞══════════════╪═══════════════════════════╡\n",
      "│ M            ┆ 7347                      │\n",
      "│ S            ┆ 45                        │\n",
      "│ L            ┆ 537                       │\n",
      "└──────────────┴───────────────────────────┘\n"
     ]
    },
    {
     "name": "stderr",
     "output_type": "stream",
     "text": [
      "/tmp/ipykernel_21595/1386866775.py:8: DeprecationWarning: `groupby` is deprecated. It has been renamed to `group_by`.\n",
      "  .groupby('company_size')\n"
     ]
    }
   ],
   "source": [
    "#filter and count total for company_size\n",
    "fullTime = ['FT']\n",
    "theStates = ['US']\n",
    "employerCompanySize = (\n",
    "    df\n",
    "    .filter(pl.col('employment_type').is_in(fullTime))\n",
    "    .filter(pl.col('employee_residence').is_in(theStates))\n",
    "    .groupby('company_size')\n",
    "    .agg(\n",
    "        employerCompanySize_total = pl.count()\n",
    "    )\n",
    "    )\n",
    "print(employerCompanySize)"
   ]
  },
  {
   "cell_type": "code",
   "execution_count": 78,
   "metadata": {},
   "outputs": [
    {
     "name": "stdout",
     "output_type": "stream",
     "text": [
      "shape: (1_344, 2)\n",
      "┌───────────────┬──────────────────────┐\n",
      "│ salary_in_usd ┆ employeeSalary_total │\n",
      "│ ---           ┆ ---                  │\n",
      "│ str           ┆ u32                  │\n",
      "╞═══════════════╪══════════════════════╡\n",
      "│ 70900         ┆ 1                    │\n",
      "│ 111775        ┆ 1                    │\n",
      "│ 254500        ┆ 1                    │\n",
      "│ 83000         ┆ 4                    │\n",
      "│ …             ┆ …                    │\n",
      "│ 272400        ┆ 2                    │\n",
      "│ 93593         ┆ 1                    │\n",
      "│ 187259        ┆ 1                    │\n",
      "│ 112200        ┆ 5                    │\n",
      "└───────────────┴──────────────────────┘\n"
     ]
    },
    {
     "name": "stderr",
     "output_type": "stream",
     "text": [
      "/tmp/ipykernel_21595/2581266221.py:8: DeprecationWarning: `groupby` is deprecated. It has been renamed to `group_by`.\n",
      "  .groupby('salary_in_usd')\n"
     ]
    }
   ],
   "source": [
    "#filter and count total for salary_in_usd\n",
    "fullTime = ['FT']\n",
    "theStates = ['US']\n",
    "employeeSalary = (\n",
    "    df\n",
    "    .filter(pl.col('employment_type').is_in(fullTime))\n",
    "    .filter(pl.col('employee_residence').is_in(theStates))\n",
    "    .groupby('salary_in_usd')\n",
    "    .agg(\n",
    "        employeeSalary_total = pl.count()\n",
    "    )\n",
    "    )\n",
    "print(employeeSalary)"
   ]
  },
  {
   "cell_type": "code",
   "execution_count": 79,
   "metadata": {},
   "outputs": [
    {
     "name": "stdout",
     "output_type": "stream",
     "text": [
      "shape: (10, 2)\n",
      "┌───────────────┬──────────────────────┐\n",
      "│ salary_in_usd ┆ employeeSalary_total │\n",
      "│ ---           ┆ ---                  │\n",
      "│ str           ┆ u32                  │\n",
      "╞═══════════════╪══════════════════════╡\n",
      "│ 150000        ┆ 195                  │\n",
      "│ 130000        ┆ 180                  │\n",
      "│ 160000        ┆ 175                  │\n",
      "│ 100000        ┆ 157                  │\n",
      "│ …             ┆ …                    │\n",
      "│ 200000        ┆ 128                  │\n",
      "│ 145000        ┆ 120                  │\n",
      "│ 180000        ┆ 110                  │\n",
      "│ 135000        ┆ 106                  │\n",
      "└───────────────┴──────────────────────┘\n"
     ]
    },
    {
     "name": "stderr",
     "output_type": "stream",
     "text": [
      "/tmp/ipykernel_21595/3573748110.py:8: DeprecationWarning: `groupby` is deprecated. It has been renamed to `group_by`.\n",
      "  .groupby('salary_in_usd')\n"
     ]
    }
   ],
   "source": [
    "#filter and count total for salary_in_usd\n",
    "fullTime = ['FT']\n",
    "theStates = ['US']\n",
    "employeeSalary = (\n",
    "    df\n",
    "    .filter(pl.col('employment_type').is_in(fullTime))\n",
    "    .filter(pl.col('employee_residence').is_in(theStates))\n",
    "    .groupby('salary_in_usd')\n",
    "    .agg(\n",
    "        employeeSalary_total = pl.count()\n",
    "    )\n",
    "    .sort('employeeSalary_total')\n",
    "    .reverse()\n",
    "    .head(10)\n",
    "    )\n",
    "print(employeeSalary)\n"
   ]
  },
  {
   "cell_type": "code",
   "execution_count": 80,
   "metadata": {},
   "outputs": [
    {
     "name": "stdout",
     "output_type": "stream",
     "text": [
      "shape: (1_732, 3)\n",
      "┌───────────────┬──────────────────┬────────────────────────────────┐\n",
      "│ salary_in_usd ┆ experience_level ┆ employeeSalaryWExperienceLevel │\n",
      "│ ---           ┆ ---              ┆ ---                            │\n",
      "│ str           ┆ str              ┆ u32                            │\n",
      "╞═══════════════╪══════════════════╪════════════════════════════════╡\n",
      "│ 95000         ┆ SE               ┆ 42                             │\n",
      "│ 196000        ┆ SE               ┆ 19                             │\n",
      "│ 195800        ┆ SE               ┆ 3                              │\n",
      "│ 294000        ┆ SE               ┆ 1                              │\n",
      "│ …             ┆ …                ┆ …                              │\n",
      "│ 99050         ┆ SE               ┆ 1                              │\n",
      "│ 106260        ┆ SE               ┆ 1                              │\n",
      "│ 138000        ┆ EN               ┆ 1                              │\n",
      "│ 111775        ┆ MI               ┆ 1                              │\n",
      "└───────────────┴──────────────────┴────────────────────────────────┘\n"
     ]
    },
    {
     "name": "stderr",
     "output_type": "stream",
     "text": [
      "/tmp/ipykernel_21595/1116946839.py:8: DeprecationWarning: `groupby` is deprecated. It has been renamed to `group_by`.\n",
      "  .groupby('salary_in_usd', 'experience_level')\n"
     ]
    }
   ],
   "source": [
    "#filter and count total for salary_in_usd with experience_level showing \n",
    "fullTime = ['FT']\n",
    "theStates = ['US']\n",
    "employeeSalaryWExperienceLevel = (\n",
    "    df\n",
    "    .filter(pl.col('employment_type').is_in(fullTime))\n",
    "    .filter(pl.col('employee_residence').is_in(theStates))\n",
    "    .groupby('salary_in_usd', 'experience_level')\n",
    "    .agg(\n",
    "        employeeSalaryWExperienceLevel = pl.count()\n",
    "    )\n",
    "    )\n",
    "print(employeeSalaryWExperienceLevel)"
   ]
  },
  {
   "cell_type": "code",
   "execution_count": 81,
   "metadata": {},
   "outputs": [
    {
     "name": "stdout",
     "output_type": "stream",
     "text": [
      "shape: (10, 3)\n",
      "┌───────────────┬──────────────────┬────────────────────────────────┐\n",
      "│ salary_in_usd ┆ experience_level ┆ employeeSalaryWExperienceLevel │\n",
      "│ ---           ┆ ---              ┆ ---                            │\n",
      "│ str           ┆ str              ┆ u32                            │\n",
      "╞═══════════════╪══════════════════╪════════════════════════════════╡\n",
      "│ 160000        ┆ SE               ┆ 129                            │\n",
      "│ 150000        ┆ SE               ┆ 128                            │\n",
      "│ 130000        ┆ SE               ┆ 128                            │\n",
      "│ 140000        ┆ SE               ┆ 110                            │\n",
      "│ …             ┆ …                ┆ …                              │\n",
      "│ 200000        ┆ SE               ┆ 93                             │\n",
      "│ 136000        ┆ SE               ┆ 85                             │\n",
      "│ 170000        ┆ SE               ┆ 84                             │\n",
      "│ 180000        ┆ SE               ┆ 82                             │\n",
      "└───────────────┴──────────────────┴────────────────────────────────┘\n"
     ]
    },
    {
     "name": "stderr",
     "output_type": "stream",
     "text": [
      "/tmp/ipykernel_21595/707213618.py:8: DeprecationWarning: `groupby` is deprecated. It has been renamed to `group_by`.\n",
      "  .groupby('salary_in_usd', 'experience_level')\n"
     ]
    }
   ],
   "source": [
    "#filter and count total for salary_in_usd with experience_level showing \n",
    "fullTime = ['FT']\n",
    "theStates = ['US']\n",
    "employeeSalaryWExperienceLevel = (\n",
    "    df\n",
    "    .filter(pl.col('employment_type').is_in(fullTime))\n",
    "    .filter(pl.col('employee_residence').is_in(theStates))\n",
    "    .groupby('salary_in_usd', 'experience_level')\n",
    "    .agg(\n",
    "        employeeSalaryWExperienceLevel = pl.count()\n",
    "    )\n",
    "    .sort('employeeSalaryWExperienceLevel')\n",
    "    .reverse()\n",
    "    .head(10)\n",
    "    )\n",
    "print(employeeSalaryWExperienceLevel)"
   ]
  }
 ],
 "metadata": {
  "kernelspec": {
   "display_name": "base",
   "language": "python",
   "name": "python3"
  },
  "language_info": {
   "codemirror_mode": {
    "name": "ipython",
    "version": 3
   },
   "file_extension": ".py",
   "mimetype": "text/x-python",
   "name": "python",
   "nbconvert_exporter": "python",
   "pygments_lexer": "ipython3",
   "version": "3.11.5"
  }
 },
 "nbformat": 4,
 "nbformat_minor": 2
}
